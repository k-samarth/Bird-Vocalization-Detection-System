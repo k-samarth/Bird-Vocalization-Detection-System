{
 "cells": [
  {
   "cell_type": "code",
   "execution_count": 2,
   "metadata": {},
   "outputs": [],
   "source": [
    "import numpy as np\n",
    "import matplotlib.pyplot as plt\n",
    "import pandas as pd\n",
    "import pickle\n",
    "from librosa import core, onset, feature, display\n",
    "import soundfile as sf\n",
    "import umap\n",
    "from IPython.display import Audio\n",
    "import sklearn"
   ]
  },
  {
   "cell_type": "code",
   "execution_count": 3,
   "metadata": {},
   "outputs": [
    {
     "data": {
      "text/html": [
       "<div>\n",
       "<style scoped>\n",
       "    .dataframe tbody tr th:only-of-type {\n",
       "        vertical-align: middle;\n",
       "    }\n",
       "\n",
       "    .dataframe tbody tr th {\n",
       "        vertical-align: top;\n",
       "    }\n",
       "\n",
       "    .dataframe thead th {\n",
       "        text-align: right;\n",
       "    }\n",
       "</style>\n",
       "<table border=\"1\" class=\"dataframe\">\n",
       "  <thead>\n",
       "    <tr style=\"text-align: right;\">\n",
       "      <th></th>\n",
       "      <th>file_id</th>\n",
       "      <th>genus</th>\n",
       "      <th>species</th>\n",
       "    </tr>\n",
       "  </thead>\n",
       "  <tbody>\n",
       "    <tr>\n",
       "      <th>0</th>\n",
       "      <td>1</td>\n",
       "      <td>Unknown</td>\n",
       "      <td>species</td>\n",
       "    </tr>\n",
       "  </tbody>\n",
       "</table>\n",
       "</div>"
      ],
      "text/plain": [
       "   file_id    genus  species\n",
       "0        1  Unknown  species"
      ]
     },
     "execution_count": 3,
     "metadata": {},
     "output_type": "execute_result"
    }
   ],
   "source": [
    "df = pd.read_csv(\"./songs/predict/predict.csv\")\n",
    "df.head()"
   ]
  },
  {
   "cell_type": "code",
   "execution_count": 12,
   "metadata": {},
   "outputs": [],
   "source": [
    "def load_audio(file_id):\n",
    "    data, samplerate = sf.read(\"./songs/predict/xc\"+str(file_id)+\".flac\")\n",
    "    s = len(data)/samplerate\n",
    "    sg = feature.melspectrogram(y=data, sr=samplerate, hop_length=512)\n",
    "    \n",
    "    # Take mean amplitude M from frame with highest energy\n",
    "    centerpoint = np.argmax(sg.mean(axis=0))\n",
    "    M = sg[:,centerpoint].mean()\n",
    "    \n",
    "    # Filter out all frames with energy less than 5% of M\n",
    "    mask = sg.mean(axis=0)>=M/20\n",
    "\n",
    "    audio_mask = np.zeros(len(data), dtype=bool)\n",
    "    for i in range(0,len(mask)):\n",
    "        audio_mask[i*512:] = mask[i]\n",
    "    return sg, mask, data, audio_mask, samplerate"
   ]
  },
  {
   "cell_type": "code",
   "execution_count": 13,
   "metadata": {},
   "outputs": [],
   "source": [
    "df['length'] = np.zeros(len(df))\n",
    "\n",
    "waves = {}\n",
    "\n",
    "\n",
    "for file_id in df['file_id']:\n",
    "    sg, mask, data, audio_mask, sample_rate = load_audio(file_id)\n",
    "    waves[file_id] = data[audio_mask]\n",
    "    df.loc[df['file_id'] == file_id,'length'] = len(data[audio_mask])"
   ]
  },
  {
   "cell_type": "code",
   "execution_count": 14,
   "metadata": {},
   "outputs": [
    {
     "data": {
      "text/html": [
       "<div>\n",
       "<style scoped>\n",
       "    .dataframe tbody tr th:only-of-type {\n",
       "        vertical-align: middle;\n",
       "    }\n",
       "\n",
       "    .dataframe tbody tr th {\n",
       "        vertical-align: top;\n",
       "    }\n",
       "\n",
       "    .dataframe thead th {\n",
       "        text-align: right;\n",
       "    }\n",
       "</style>\n",
       "<table border=\"1\" class=\"dataframe\">\n",
       "  <thead>\n",
       "    <tr style=\"text-align: right;\">\n",
       "      <th></th>\n",
       "      <th>file_id</th>\n",
       "      <th>genus</th>\n",
       "      <th>species</th>\n",
       "      <th>length</th>\n",
       "      <th>windows</th>\n",
       "    </tr>\n",
       "  </thead>\n",
       "  <tbody>\n",
       "    <tr>\n",
       "      <th>0</th>\n",
       "      <td>1</td>\n",
       "      <td>Unknown</td>\n",
       "      <td>species</td>\n",
       "      <td>116736.0</td>\n",
       "      <td>19</td>\n",
       "    </tr>\n",
       "  </tbody>\n",
       "</table>\n",
       "</div>"
      ],
      "text/plain": [
       "   file_id    genus  species    length  windows\n",
       "0        1  Unknown  species  116736.0       19"
      ]
     },
     "execution_count": 14,
     "metadata": {},
     "output_type": "execute_result"
    }
   ],
   "source": [
    "df['windows'] = df['length'].apply(lambda x: int(x/6.144000e+03))\n",
    "df"
   ]
  },
  {
   "cell_type": "code",
   "execution_count": 15,
   "metadata": {},
   "outputs": [
    {
     "data": {
      "text/plain": [
       "np.int64(19)"
      ]
     },
     "execution_count": 15,
     "metadata": {},
     "output_type": "execute_result"
    }
   ],
   "source": [
    "n_windows = df.groupby('species')['windows'].sum().min()\n",
    "n_windows"
   ]
  },
  {
   "cell_type": "code",
   "execution_count": 16,
   "metadata": {},
   "outputs": [],
   "source": [
    "windows = {}\n",
    "\n",
    "for file_id in df['file_id']:\n",
    "    wave = waves[file_id]\n",
    "    species = df[df['file_id']==file_id]['genus'].values[0] + \"_\" + df[df['file_id']==file_id]['species'].values[0]\n",
    "    if species not in windows:\n",
    "        windows[species] = []\n",
    "    for i in range(0, int(len(wave)/6.144000e+03)):\n",
    "        windows[species].append(wave[i:int(i+6.144000e+03)])"
   ]
  },
  {
   "cell_type": "code",
   "execution_count": 17,
   "metadata": {},
   "outputs": [],
   "source": [
    "windows_fixed = {}\n",
    "\n",
    "for species in windows.keys():\n",
    "    windows_fixed[species] = []\n",
    "    ws = windows[species]\n",
    "    index = np.random.choice(len(ws), n_windows, replace=False)\n",
    "    for i in range(0, len(ws)):\n",
    "        if i in index:\n",
    "            windows_fixed[species].append(ws[i])"
   ]
  },
  {
   "cell_type": "code",
   "execution_count": 21,
   "metadata": {},
   "outputs": [
    {
     "name": "stderr",
     "output_type": "stream",
     "text": [
      "c:\\Users\\K Samarth N Kamath\\Bird-Vocalization-Detection-System\\.venv\\Lib\\site-packages\\librosa\\core\\pitch.py:101: UserWarning: Trying to estimate tuning from empty frequency set.\n",
      "  return pitch_tuning(\n"
     ]
    },
    {
     "data": {
      "text/html": [
       "<div>\n",
       "<style scoped>\n",
       "    .dataframe tbody tr th:only-of-type {\n",
       "        vertical-align: middle;\n",
       "    }\n",
       "\n",
       "    .dataframe tbody tr th {\n",
       "        vertical-align: top;\n",
       "    }\n",
       "\n",
       "    .dataframe thead th {\n",
       "        text-align: right;\n",
       "    }\n",
       "</style>\n",
       "<table border=\"1\" class=\"dataframe\">\n",
       "  <thead>\n",
       "    <tr style=\"text-align: right;\">\n",
       "      <th></th>\n",
       "      <th>species</th>\n",
       "      <th>genus</th>\n",
       "      <th>spec_centr_0</th>\n",
       "      <th>chromogram_0_0</th>\n",
       "      <th>chromogram_1_0</th>\n",
       "      <th>chromogram_2_0</th>\n",
       "      <th>chromogram_3_0</th>\n",
       "      <th>chromogram_4_0</th>\n",
       "      <th>chromogram_5_0</th>\n",
       "      <th>chromogram_6_0</th>\n",
       "      <th>...</th>\n",
       "      <th>chromogram_2_12</th>\n",
       "      <th>chromogram_3_12</th>\n",
       "      <th>chromogram_4_12</th>\n",
       "      <th>chromogram_5_12</th>\n",
       "      <th>chromogram_6_12</th>\n",
       "      <th>chromogram_7_12</th>\n",
       "      <th>chromogram_8_12</th>\n",
       "      <th>chromogram_9_12</th>\n",
       "      <th>chromogram_10_12</th>\n",
       "      <th>chromogram_11_12</th>\n",
       "    </tr>\n",
       "  </thead>\n",
       "  <tbody>\n",
       "    <tr>\n",
       "      <th>0</th>\n",
       "      <td>species</td>\n",
       "      <td>Unknown</td>\n",
       "      <td>3181.637582</td>\n",
       "      <td>0.000833</td>\n",
       "      <td>0.000790</td>\n",
       "      <td>0.000987</td>\n",
       "      <td>0.001147</td>\n",
       "      <td>0.001561</td>\n",
       "      <td>0.013176</td>\n",
       "      <td>0.440830</td>\n",
       "      <td>...</td>\n",
       "      <td>0.002372</td>\n",
       "      <td>0.003946</td>\n",
       "      <td>0.011741</td>\n",
       "      <td>0.247158</td>\n",
       "      <td>1.0</td>\n",
       "      <td>0.207101</td>\n",
       "      <td>0.008497</td>\n",
       "      <td>0.002119</td>\n",
       "      <td>0.001486</td>\n",
       "      <td>0.001415</td>\n",
       "    </tr>\n",
       "    <tr>\n",
       "      <th>1</th>\n",
       "      <td>species</td>\n",
       "      <td>Unknown</td>\n",
       "      <td>3364.629079</td>\n",
       "      <td>0.000767</td>\n",
       "      <td>0.000701</td>\n",
       "      <td>0.000860</td>\n",
       "      <td>0.000992</td>\n",
       "      <td>0.001378</td>\n",
       "      <td>0.012949</td>\n",
       "      <td>0.441586</td>\n",
       "      <td>...</td>\n",
       "      <td>0.002030</td>\n",
       "      <td>0.003495</td>\n",
       "      <td>0.011064</td>\n",
       "      <td>0.246104</td>\n",
       "      <td>1.0</td>\n",
       "      <td>0.207251</td>\n",
       "      <td>0.008606</td>\n",
       "      <td>0.002090</td>\n",
       "      <td>0.001376</td>\n",
       "      <td>0.001245</td>\n",
       "    </tr>\n",
       "    <tr>\n",
       "      <th>2</th>\n",
       "      <td>species</td>\n",
       "      <td>Unknown</td>\n",
       "      <td>3611.369476</td>\n",
       "      <td>0.000640</td>\n",
       "      <td>0.000555</td>\n",
       "      <td>0.000634</td>\n",
       "      <td>0.000688</td>\n",
       "      <td>0.001099</td>\n",
       "      <td>0.012565</td>\n",
       "      <td>0.443388</td>\n",
       "      <td>...</td>\n",
       "      <td>0.001483</td>\n",
       "      <td>0.002760</td>\n",
       "      <td>0.009939</td>\n",
       "      <td>0.244820</td>\n",
       "      <td>1.0</td>\n",
       "      <td>0.206709</td>\n",
       "      <td>0.008615</td>\n",
       "      <td>0.001952</td>\n",
       "      <td>0.001175</td>\n",
       "      <td>0.000951</td>\n",
       "    </tr>\n",
       "    <tr>\n",
       "      <th>3</th>\n",
       "      <td>species</td>\n",
       "      <td>Unknown</td>\n",
       "      <td>3358.804555</td>\n",
       "      <td>0.000764</td>\n",
       "      <td>0.000771</td>\n",
       "      <td>0.000896</td>\n",
       "      <td>0.000948</td>\n",
       "      <td>0.001534</td>\n",
       "      <td>0.013229</td>\n",
       "      <td>0.446249</td>\n",
       "      <td>...</td>\n",
       "      <td>0.001901</td>\n",
       "      <td>0.003295</td>\n",
       "      <td>0.010764</td>\n",
       "      <td>0.247900</td>\n",
       "      <td>1.0</td>\n",
       "      <td>0.204385</td>\n",
       "      <td>0.008295</td>\n",
       "      <td>0.001881</td>\n",
       "      <td>0.001278</td>\n",
       "      <td>0.001108</td>\n",
       "    </tr>\n",
       "    <tr>\n",
       "      <th>4</th>\n",
       "      <td>species</td>\n",
       "      <td>Unknown</td>\n",
       "      <td>3194.050269</td>\n",
       "      <td>0.000821</td>\n",
       "      <td>0.000860</td>\n",
       "      <td>0.001014</td>\n",
       "      <td>0.001076</td>\n",
       "      <td>0.001704</td>\n",
       "      <td>0.013525</td>\n",
       "      <td>0.447527</td>\n",
       "      <td>...</td>\n",
       "      <td>0.002392</td>\n",
       "      <td>0.003939</td>\n",
       "      <td>0.011764</td>\n",
       "      <td>0.250598</td>\n",
       "      <td>1.0</td>\n",
       "      <td>0.203025</td>\n",
       "      <td>0.008121</td>\n",
       "      <td>0.001904</td>\n",
       "      <td>0.001424</td>\n",
       "      <td>0.001322</td>\n",
       "    </tr>\n",
       "  </tbody>\n",
       "</table>\n",
       "<p>5 rows × 171 columns</p>\n",
       "</div>"
      ],
      "text/plain": [
       "   species    genus  spec_centr_0  chromogram_0_0  chromogram_1_0  \\\n",
       "0  species  Unknown   3181.637582        0.000833        0.000790   \n",
       "1  species  Unknown   3364.629079        0.000767        0.000701   \n",
       "2  species  Unknown   3611.369476        0.000640        0.000555   \n",
       "3  species  Unknown   3358.804555        0.000764        0.000771   \n",
       "4  species  Unknown   3194.050269        0.000821        0.000860   \n",
       "\n",
       "   chromogram_2_0  chromogram_3_0  chromogram_4_0  chromogram_5_0  \\\n",
       "0        0.000987        0.001147        0.001561        0.013176   \n",
       "1        0.000860        0.000992        0.001378        0.012949   \n",
       "2        0.000634        0.000688        0.001099        0.012565   \n",
       "3        0.000896        0.000948        0.001534        0.013229   \n",
       "4        0.001014        0.001076        0.001704        0.013525   \n",
       "\n",
       "   chromogram_6_0  ...  chromogram_2_12  chromogram_3_12  chromogram_4_12  \\\n",
       "0        0.440830  ...         0.002372         0.003946         0.011741   \n",
       "1        0.441586  ...         0.002030         0.003495         0.011064   \n",
       "2        0.443388  ...         0.001483         0.002760         0.009939   \n",
       "3        0.446249  ...         0.001901         0.003295         0.010764   \n",
       "4        0.447527  ...         0.002392         0.003939         0.011764   \n",
       "\n",
       "   chromogram_5_12  chromogram_6_12  chromogram_7_12  chromogram_8_12  \\\n",
       "0         0.247158              1.0         0.207101         0.008497   \n",
       "1         0.246104              1.0         0.207251         0.008606   \n",
       "2         0.244820              1.0         0.206709         0.008615   \n",
       "3         0.247900              1.0         0.204385         0.008295   \n",
       "4         0.250598              1.0         0.203025         0.008121   \n",
       "\n",
       "   chromogram_9_12  chromogram_10_12  chromogram_11_12  \n",
       "0         0.002119          0.001486          0.001415  \n",
       "1         0.002090          0.001376          0.001245  \n",
       "2         0.001952          0.001175          0.000951  \n",
       "3         0.001881          0.001278          0.001108  \n",
       "4         0.001904          0.001424          0.001322  \n",
       "\n",
       "[5 rows x 171 columns]"
      ]
     },
     "execution_count": 21,
     "metadata": {},
     "output_type": "execute_result"
    }
   ],
   "source": [
    "new_dataset = pd.DataFrame()\n",
    "\n",
    "for species in windows_fixed.keys():\n",
    "    for i in range(0,n_windows):\n",
    "        data_point = {'species':species.split('_')[1], 'genus':species.split('_')[0]}\n",
    "        spec_centroid = feature.spectral_centroid(y=windows_fixed[species][i])[0]\n",
    "        chroma = feature.chroma_stft(y=windows_fixed[species][i], sr=sample_rate)\n",
    "        for j in range(0,13):\n",
    "            data_point['spec_centr_'+str(j)] = spec_centroid[j]\n",
    "            for k in range(0,12):\n",
    "                data_point['chromogram_'+str(k)+\"_\"+str(j)] = chroma[k,j]\n",
    "        data_point = pd.DataFrame([data_point])\n",
    "        new_dataset = pd.concat([new_dataset, data_point],ignore_index=True)\n",
    "\n",
    "new_dataset.head()"
   ]
  },
  {
   "cell_type": "code",
   "execution_count": 22,
   "metadata": {},
   "outputs": [],
   "source": [
    "features= list(new_dataset.columns)\n",
    "features.remove('species')\n",
    "features.remove('genus')\n",
    "\n",
    "X = new_dataset[features].values"
   ]
  },
  {
   "cell_type": "code",
   "execution_count": 24,
   "metadata": {},
   "outputs": [],
   "source": [
    "loaded_model = pickle.load(open('svm.sav', 'rb'))"
   ]
  },
  {
   "cell_type": "code",
   "execution_count": 25,
   "metadata": {},
   "outputs": [
    {
     "data": {
      "text/plain": [
       "'familiaris'"
      ]
     },
     "execution_count": 25,
     "metadata": {},
     "output_type": "execute_result"
    }
   ],
   "source": [
    "ans=loaded_model.predict(X)\n",
    "dic={}\n",
    "s=set(ans)\n",
    "for i in s:\n",
    "    dic[i]=sum([1 for j in list(ans) if i==j])\n",
    "dic['jadf']=12\n",
    "sol=None\n",
    "res=None\n",
    "for i in dic.items():\n",
    "    if sol is None or sol<i[1]:\n",
    "        sol=i[1]\n",
    "        res=i[0]\n",
    "res"
   ]
  },
  {
   "cell_type": "code",
   "execution_count": 26,
   "metadata": {},
   "outputs": [],
   "source": [
    "loaded_model = pickle.load(open('naive.sav', 'rb'))"
   ]
  },
  {
   "cell_type": "code",
   "execution_count": 27,
   "metadata": {},
   "outputs": [
    {
     "data": {
      "text/plain": [
       "np.str_('palustris')"
      ]
     },
     "execution_count": 27,
     "metadata": {},
     "output_type": "execute_result"
    }
   ],
   "source": [
    "ans=loaded_model.predict(X)\n",
    "dic={}\n",
    "s=set(ans)\n",
    "for i in s:\n",
    "    dic[i]=sum([1 for j in list(ans) if i==j])\n",
    "dic['jadf']=12\n",
    "sol=None\n",
    "res=None\n",
    "for i in dic.items():\n",
    "    if sol is None or sol<i[1]:\n",
    "        sol=i[1]\n",
    "        res=i[0]\n",
    "res"
   ]
  },
  {
   "cell_type": "code",
   "execution_count": null,
   "metadata": {},
   "outputs": [],
   "source": []
  },
  {
   "cell_type": "code",
   "execution_count": null,
   "metadata": {},
   "outputs": [],
   "source": []
  },
  {
   "cell_type": "code",
   "execution_count": null,
   "metadata": {},
   "outputs": [],
   "source": []
  },
  {
   "cell_type": "code",
   "execution_count": null,
   "metadata": {},
   "outputs": [],
   "source": []
  },
  {
   "cell_type": "code",
   "execution_count": null,
   "metadata": {},
   "outputs": [],
   "source": []
  }
 ],
 "metadata": {
  "kernelspec": {
   "display_name": ".venv",
   "language": "python",
   "name": "python3"
  },
  "language_info": {
   "codemirror_mode": {
    "name": "ipython",
    "version": 3
   },
   "file_extension": ".py",
   "mimetype": "text/x-python",
   "name": "python",
   "nbconvert_exporter": "python",
   "pygments_lexer": "ipython3",
   "version": "3.12.5"
  },
  "metadata": {
   "interpreter": {
    "hash": "2724d6f7fa1aa1da672e4bc096e6c4a70d95e5c521827221900f10d22ea11a71"
   }
  }
 },
 "nbformat": 4,
 "nbformat_minor": 2
}
